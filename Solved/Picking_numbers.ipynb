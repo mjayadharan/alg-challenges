{
 "cells": [
  {
   "cell_type": "markdown",
   "metadata": {},
   "source": [
    "Given an array of integers, find and print the maximum number of integers you can select from the array such that the absolute difference between any two of the chosen integers is less than or equal to . For example, if your array is , you can create two subarrays meeting the criterion:  and . The maximum length subarray has  elements.\n",
    "\n",
    "Function Description\n",
    "\n",
    "Complete the pickingNumbers function in the editor below. It should return an integer that represents the length of the longest array that can be created.\n",
    "\n",
    "pickingNumbers has the following parameter(s):\n",
    "\n",
    "a: an array of integers\n",
    "Input Format\n",
    "\n",
    "The first line contains a single integer , the size of the array .\n",
    "The second line contains  space-separated integers ."
   ]
  },
  {
   "cell_type": "code",
   "execution_count": 21,
   "metadata": {},
   "outputs": [
    {
     "name": "stdout",
     "output_type": "stream",
     "text": [
      "[3, 4, 5, 6, 8, 9, 10, 11, 14]\n",
      "[2, 1, 1, 1, 2, 3, 1, 1, 4]\n"
     ]
    },
    {
     "data": {
      "text/plain": [
       "5"
      ]
     },
     "execution_count": 21,
     "metadata": {},
     "output_type": "execute_result"
    }
   ],
   "source": [
    "def pickingNumbers(a):\n",
    "    max_length_seq=[]\n",
    "    a.sort()\n",
    "    sorted_a = a\n",
    "    nearby_elements=set()\n",
    "    for i in range(1,len(sorted_a)):\n",
    "        if abs(sorted_a[i]-sorted_a[i-1])<2:\n",
    "            nearby_elements.add(sorted_a[i])\n",
    "    nearby_elements_list= list(nearby_elements)\n",
    "    nearby_elements_list.sort()\n",
    "    print(nearby_elements_list)\n",
    "    el_count_table=[]\n",
    "    for el in nearby_elements_list:\n",
    "        el_count_table.append(sorted_a.count(el))\n",
    "    print(el_count_table)\n",
    "    max_length_seq.append(el_count_table[0])\n",
    "    for i in range(1,len(nearby_elements_list)):\n",
    "        if abs(nearby_elements_list[i]-nearby_elements_list[i-1])<2:\n",
    "            max_length_seq.append(el_count_table[i]+el_count_table[i-1])\n",
    "        else:\n",
    "            max_length_seq.append(el_count_table[i])\n",
    "    return max(max_length_seq)\n",
    "    \n",
    "\n",
    "        \n",
    "        \n",
    "    \n",
    "    \n",
    "pickingNumbers([4,6,5,3,3,1,10,11,14,14,14,14,9,9,9,8,8])"
   ]
  }
 ],
 "metadata": {
  "kernelspec": {
   "display_name": "Python 3",
   "language": "python",
   "name": "python3"
  },
  "language_info": {
   "codemirror_mode": {
    "name": "ipython",
    "version": 3
   },
   "file_extension": ".py",
   "mimetype": "text/x-python",
   "name": "python",
   "nbconvert_exporter": "python",
   "pygments_lexer": "ipython3",
   "version": "3.7.7"
  }
 },
 "nbformat": 4,
 "nbformat_minor": 4
}
