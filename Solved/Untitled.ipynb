{
 "cells": [
  {
   "cell_type": "code",
   "execution_count": 3,
   "metadata": {},
   "outputs": [
    {
     "name": "stdout",
     "output_type": "stream",
     "text": [
      "here is the problem 1\n",
      "Not a magic Square\n"
     ]
    }
   ],
   "source": [
    "\n",
    "# Python3 program to check whether a given  \n",
    "# matrix is magic matrix or not \n",
    "N = 3\n",
    "  \n",
    "# Returns true if mat[][] is magic \n",
    "# square, else returns false. \n",
    "def isMagicSquare( mat) : \n",
    "      \n",
    "    # calculate the sum of  \n",
    "    # the prime diagonal \n",
    "    s = 0 \n",
    "      \n",
    "    for i in range(0, N) : \n",
    "        s = s + mat[i][i] \n",
    "  \n",
    "    # the secondary diagonal \n",
    "    s2 = 0\n",
    "    for i in range(0, N) : \n",
    "        s2 = s2 + mat[i][N-i-1] \n",
    "  \n",
    "    if(s!=s2) : \n",
    "        print(\"here is the problem 1\")\n",
    "        return False\n",
    "        \n",
    "  \n",
    "    # For sums of Rows  \n",
    "    for i in range(0, N) : \n",
    "        rowSum = 0;      \n",
    "        for j in range(0, N) : \n",
    "            rowSum += mat[i][j] \n",
    "          \n",
    "        # check if every row sum is \n",
    "        # equal to prime diagonal sum \n",
    "        if (rowSum != s) : \n",
    "            print(\"here is the problem 2\")\n",
    "            return False\n",
    "  \n",
    "    # For sums of Columns \n",
    "    for i in range(0, N): \n",
    "        colSum = 0\n",
    "        for j in range(0, N) : \n",
    "            colSum += mat[j][i] \n",
    "  \n",
    "        # check if every column sum is  \n",
    "        # equal to prime diagonal sum \n",
    "        if (s != colSum) : \n",
    "            print(\"here is the problem 3\")\n",
    "            return False\n",
    "  \n",
    "    return True\n",
    "  \n",
    "# Driver Code \n",
    "mat = [ [ 2, 4, 9 ], \n",
    "        [ 6, 8, 1 ], \n",
    "        [ 7, 3, 5 ] ] \n",
    "      \n",
    "if (isMagicSquare(mat)) : \n",
    "    print( \"Magic Square\") \n",
    "else : \n",
    "    print( \"Not a magic Square\") \n",
    "# This code is contributed by Nikita Tiwari. \n",
    "\n"
   ]
  }
 ],
 "metadata": {
  "kernelspec": {
   "display_name": "Python 3",
   "language": "python",
   "name": "python3"
  },
  "language_info": {
   "codemirror_mode": {
    "name": "ipython",
    "version": 3
   },
   "file_extension": ".py",
   "mimetype": "text/x-python",
   "name": "python",
   "nbconvert_exporter": "python",
   "pygments_lexer": "ipython3",
   "version": "3.7.6"
  }
 },
 "nbformat": 4,
 "nbformat_minor": 4
}
