{
 "cells": [
  {
   "cell_type": "code",
   "execution_count": 35,
   "metadata": {},
   "outputs": [],
   "source": [
    "class BST:\n",
    "    def __init__(self,el=None):\n",
    "        self.left = None\n",
    "        self.right = None\n",
    "        self.data = el\n",
    "    def AddEl(self, root, el):\n",
    "        if (not root):\n",
    "            return BST(el)\n",
    "            if el < root.data:\n",
    "                root_left = self.AddEl(root.left, el)\n",
    "            else:\n",
    "                root_right = self.AddEl(root.right, el)\n",
    "    \n",
    "    def PrintEL(self, root):\n",
    "        if (not root):\n",
    "            return None\n",
    "        self.PrintEL(root.left)\n",
    "        print(root.data)\n",
    "        self.PrintEL(root.right)\n",
    "        "
   ]
  },
  {
   "cell_type": "code",
   "execution_count": 36,
   "metadata": {},
   "outputs": [],
   "source": [
    "root = BST(2)"
   ]
  },
  {
   "cell_type": "code",
   "execution_count": 37,
   "metadata": {},
   "outputs": [],
   "source": [
    "root.AddEl(root,4)"
   ]
  },
  {
   "cell_type": "code",
   "execution_count": 38,
   "metadata": {},
   "outputs": [
    {
     "name": "stdout",
     "output_type": "stream",
     "text": [
      "2\n"
     ]
    }
   ],
   "source": [
    "root.PrintEL(root)"
   ]
  },
  {
   "cell_type": "code",
   "execution_count": null,
   "metadata": {},
   "outputs": [],
   "source": []
  }
 ],
 "metadata": {
  "kernelspec": {
   "display_name": "Python 3",
   "language": "python",
   "name": "python3"
  },
  "language_info": {
   "codemirror_mode": {
    "name": "ipython",
    "version": 3
   },
   "file_extension": ".py",
   "mimetype": "text/x-python",
   "name": "python",
   "nbconvert_exporter": "python",
   "pygments_lexer": "ipython3",
   "version": "3.8.3"
  }
 },
 "nbformat": 4,
 "nbformat_minor": 4
}
