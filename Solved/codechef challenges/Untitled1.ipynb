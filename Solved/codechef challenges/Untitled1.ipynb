{
 "cells": [
  {
   "cell_type": "code",
   "execution_count": 3,
   "metadata": {},
   "outputs": [
    {
     "data": {
      "text/plain": [
       "[[-6, 6, -7, -5, 6, 10],\n",
       " [-6, 10, 10, 4, 1, -1],\n",
       " [8, 8, 9, 6, 1, -5],\n",
       " [1, -9, -10, 9, -7, 6],\n",
       " [6, -9, 8, -5, -4, 7],\n",
       " [8, -1, -9, -9, 3, 10],\n",
       " [6, 3, -6, -6, -6, 1],\n",
       " [6, -7, 6, 0, -8, -9],\n",
       " [-9, 6, 0, 2, 10, 3],\n",
       " [2, -8, -9, -9, -7, -9]]"
      ]
     },
     "execution_count": 3,
     "metadata": {},
     "output_type": "execute_result"
    }
   ],
   "source": [
    "from random import randint as ri\n",
    "\n",
    "[[ri(-10,10) for i in range(6)] for j in range(10) ]"
   ]
  },
  {
   "cell_type": "code",
   "execution_count": 4,
   "metadata": {},
   "outputs": [
    {
     "data": {
      "text/plain": [
       "[1, 23, 4, 5]"
      ]
     },
     "execution_count": 4,
     "metadata": {},
     "output_type": "execute_result"
    }
   ],
   "source": [
    "a=[1,23]\n",
    "a+[4,5]"
   ]
  }
 ],
 "metadata": {
  "kernelspec": {
   "display_name": "Python 3",
   "language": "python",
   "name": "python3"
  },
  "language_info": {
   "codemirror_mode": {
    "name": "ipython",
    "version": 3
   },
   "file_extension": ".py",
   "mimetype": "text/x-python",
   "name": "python",
   "nbconvert_exporter": "python",
   "pygments_lexer": "ipython3",
   "version": "3.7.7"
  }
 },
 "nbformat": 4,
 "nbformat_minor": 4
}
