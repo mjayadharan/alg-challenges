{
 "cells": [
  {
   "cell_type": "code",
   "execution_count": null,
   "metadata": {},
   "outputs": [],
   "source": [
    "def find_prime_upto(n):\n",
    "    prime_arr = [True for i in range(n)]\n",
    "    prime_arr[0]=False\n",
    "    for i in range(2,int(n**0.5)+1):\n",
    "        if prime_arr[i-1]:\n",
    "            for j in range(i**2,n+1,i):\n",
    "                prime_arr[j-1]=False\n",
    "    return [i+1 for i in range(n) if prime_arr[i]]\n",
    "\n",
    "def list_prod(l):\n",
    "    prod=1\n",
    "    for el in l:\n",
    "        prod*=el\n",
    "    return prod\n",
    "\n",
    "n = int(input())\n",
    "# n=10\n",
    "arr = arr = list(map(int,input().strip().split()))\n",
    "d1=['-1']*n\n",
    "d2=['-1']*n\n",
    "# arr = list(map(int,\"2 3 4 5 6 7 8 9 10 24\".split()))\n",
    "arr_max = max(arr)\n",
    "prim_arr = find_prime_upto(arr_max)\n",
    "for i in range(n):\n",
    "    arr_el = arr[i]\n",
    "    el_prime_arr = []\n",
    "    for prime in prim_arr:\n",
    "        if prime>arr_el:\n",
    "            break\n",
    "        elif arr_el%prime==0:\n",
    "            el_prime_arr.append(prime)\n",
    "    if len(el_prime_arr)>1:\n",
    "        d1[i]=str(el_prime_arr[0])\n",
    "        d2[i]=str(list_prod(el_prime_arr[1:]))\n",
    "print(\" \".join(d1))\n",
    "print(\" \".join(d2))\n"
   ]
  }
 ],
 "metadata": {
  "kernelspec": {
   "display_name": "Python 3",
   "language": "python",
   "name": "python3"
  },
  "language_info": {
   "codemirror_mode": {
    "name": "ipython",
    "version": 3
   },
   "file_extension": ".py",
   "mimetype": "text/x-python",
   "name": "python",
   "nbconvert_exporter": "python",
   "pygments_lexer": "ipython3",
   "version": "3.7.7"
  }
 },
 "nbformat": 4,
 "nbformat_minor": 4
}
