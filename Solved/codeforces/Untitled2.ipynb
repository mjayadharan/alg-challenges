{
 "cells": [
  {
   "cell_type": "code",
   "execution_count": 11,
   "metadata": {},
   "outputs": [
    {
     "name": "stdout",
     "output_type": "stream",
     "text": [
      "3\n",
      "1 2 3\n",
      "4 1 2\n"
     ]
    }
   ],
   "source": [
    "n = int(input().strip())\n",
    "arr = list(map(int,input().strip().split()))\n",
    "dummy_el = arr[-1]+1\n",
    "b=['0']*n\n",
    "b = dummy_el if arr[0]==0 else 0\n",
    "for i in range(1,n):\n",
    "    if arr[i]!=arr[i-1]:\n",
    "        b[i]=str(arr[i-1])\n",
    "    else:\n",
    "        b[i]=str(dummy_el)\n",
    "print(' '.join(b))"
   ]
  }
 ],
 "metadata": {
  "kernelspec": {
   "display_name": "Python 3",
   "language": "python",
   "name": "python3"
  },
  "language_info": {
   "codemirror_mode": {
    "name": "ipython",
    "version": 3
   },
   "file_extension": ".py",
   "mimetype": "text/x-python",
   "name": "python",
   "nbconvert_exporter": "python",
   "pygments_lexer": "ipython3",
   "version": "3.7.7"
  }
 },
 "nbformat": 4,
 "nbformat_minor": 4
}
