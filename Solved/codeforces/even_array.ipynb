{
 "cells": [
  {
   "cell_type": "code",
   "execution_count": 16,
   "metadata": {},
   "outputs": [
    {
     "name": "stdout",
     "output_type": "stream",
     "text": [
      "1\n",
      "2\n",
      "3 2\n",
      "1\n"
     ]
    }
   ],
   "source": [
    "t = int(input().strip())\n",
    "for _ in range(t):\n",
    "    n = int(input())\n",
    "    a =list(map(int,input().strip().split()))\n",
    "    max_n_sub = n//2 if n%2==0 else (n+1)//2\n",
    "    num_odds = sum([el%2 for el in a])\n",
    "#     print(num_odds)\n",
    "    num_even = n-num_odds\n",
    "    if n==1:\n",
    "        if a[0]%2==0:\n",
    "            print(1)\n",
    "        else:\n",
    "            print(-1)\n",
    "    elif num_odds>max_n_sub or num_even>max_n_sub:\n",
    "        print(-1)\n",
    "    else:\n",
    "        num_changed_odd = sum([1 for i in range(n) if i%2==0 and a[i]%2!=0])\n",
    "        num_changed_even = sum([1 for i in range(n) if i%2!=0 and a[i]%2==0])\n",
    "        if num_changed_even==num_changed_odd:\n",
    "            print(num_changed_odd)\n",
    "        else:\n",
    "            print(max(num_changed_even,num_changed_odd)+1)"
   ]
  }
 ],
 "metadata": {
  "kernelspec": {
   "display_name": "Python 3",
   "language": "python",
   "name": "python3"
  },
  "language_info": {
   "codemirror_mode": {
    "name": "ipython",
    "version": 3
   },
   "file_extension": ".py",
   "mimetype": "text/x-python",
   "name": "python",
   "nbconvert_exporter": "python",
   "pygments_lexer": "ipython3",
   "version": "3.7.7"
  }
 },
 "nbformat": 4,
 "nbformat_minor": 4
}
