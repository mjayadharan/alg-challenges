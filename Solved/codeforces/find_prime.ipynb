{
 "cells": [
  {
   "cell_type": "code",
   "execution_count": null,
   "metadata": {},
   "outputs": [],
   "source": [
    "def find_prime_upto(n):\n",
    "    prime_arr = [True for i in range(n)]\n",
    "    prime_arr[0]=False\n",
    "    for i in range(2,int(n**0.5)+1):\n",
    "        if prime_arr[i-1]:\n",
    "            for j in range(i**2,n+1,i):\n",
    "                prime_arr[j-1]=False\n",
    "    return [i+1 for i in range(n) if prime_arr[i]]"
   ]
  }
 ],
 "metadata": {
  "kernelspec": {
   "display_name": "Python 3",
   "language": "python",
   "name": "python3"
  },
  "language_info": {
   "codemirror_mode": {
    "name": "ipython",
    "version": 3
   },
   "file_extension": ".py",
   "mimetype": "text/x-python",
   "name": "python",
   "nbconvert_exporter": "python",
   "pygments_lexer": "ipython3",
   "version": "3.7.7"
  }
 },
 "nbformat": 4,
 "nbformat_minor": 4
}
