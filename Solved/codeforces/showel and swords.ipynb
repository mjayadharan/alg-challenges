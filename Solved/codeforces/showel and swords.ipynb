{
 "cells": [
  {
   "cell_type": "code",
   "execution_count": 20,
   "metadata": {},
   "outputs": [
    {
     "name": "stdout",
     "output_type": "stream",
     "text": [
      "1\n",
      "1000000000000 0\n",
      "0\n"
     ]
    }
   ],
   "source": [
    "\n",
    "\n",
    "if __name__==\"__main__\":\n",
    "    T = int(input().strip())\n",
    "    for _ in range(T):\n",
    "        a,b = list(map(int,input().strip().split()))\n",
    "        min_el = min(a,b)\n",
    "        max_el = max(a,b)\n",
    "        if min_el>=max_el//2:\n",
    "            num_emeralds = max(0,(-a+2*b)//3) + max(0,(2*a-b)//3)\n",
    "        else:\n",
    "            num_emeralds = min(min_el,max_el//2)\n",
    "            if max_el%2!=0 and num_emeralds<min_el:\n",
    "                num_emeralds+=1\n",
    "        \n",
    "#         print(max(0,(-a+2*b)//3))\n",
    "#         print(max(0,(2*a-b)//3))\n",
    "        print(num_emeralds)"
   ]
  }
 ],
 "metadata": {
  "kernelspec": {
   "display_name": "Python 3",
   "language": "python",
   "name": "python3"
  },
  "language_info": {
   "codemirror_mode": {
    "name": "ipython",
    "version": 3
   },
   "file_extension": ".py",
   "mimetype": "text/x-python",
   "name": "python",
   "nbconvert_exporter": "python",
   "pygments_lexer": "ipython3",
   "version": "3.7.7"
  }
 },
 "nbformat": 4,
 "nbformat_minor": 4
}
