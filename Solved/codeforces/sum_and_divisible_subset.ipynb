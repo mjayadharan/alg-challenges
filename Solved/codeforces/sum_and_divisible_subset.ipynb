{
 "cells": [
  {
   "cell_type": "code",
   "execution_count": 8,
   "metadata": {},
   "outputs": [
    {
     "name": "stdout",
     "output_type": "stream",
     "text": [
      "1\n",
      "2 3\n",
      "2 0\n",
      "2\n"
     ]
    }
   ],
   "source": [
    "# import math\n",
    "\n",
    "t = int(input().strip())\n",
    "for _ in range(t):\n",
    "    n,x = list(map(int,input().strip().split()))\n",
    "    arr = list(map(int,input().strip().split()))\n",
    "    arr_sum=sum(arr)\n",
    "    if n==0:\n",
    "        print(-1)\n",
    "    elif arr_sum%x!=0:\n",
    "        print(n)\n",
    "    elif n==1:\n",
    "        print(-1)\n",
    "    else:\n",
    "        for i in range(1,n):\n",
    "            if arr[i]%x!=0:\n",
    "                print(n-1)\n",
    "                break\n",
    "            elif i==n-1:\n",
    "                print(-1)\n",
    "            "
   ]
  }
 ],
 "metadata": {
  "kernelspec": {
   "display_name": "Python 3",
   "language": "python",
   "name": "python3"
  },
  "language_info": {
   "codemirror_mode": {
    "name": "ipython",
    "version": 3
   },
   "file_extension": ".py",
   "mimetype": "text/x-python",
   "name": "python",
   "nbconvert_exporter": "python",
   "pygments_lexer": "ipython3",
   "version": "3.7.7"
  }
 },
 "nbformat": 4,
 "nbformat_minor": 4
}
