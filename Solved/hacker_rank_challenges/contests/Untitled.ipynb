{
 "cells": [
  {
   "cell_type": "code",
   "execution_count": 2,
   "metadata": {},
   "outputs": [
    {
     "data": {
      "text/plain": [
       "['A',\n",
       " 'b',\n",
       " 'C',\n",
       " 'D',\n",
       " 'd',\n",
       " 'd',\n",
       " 'L',\n",
       " 'm',\n",
       " 'M',\n",
       " 'n',\n",
       " 'O',\n",
       " 'B',\n",
       " 'c',\n",
       " 'd',\n",
       " 'd',\n",
       " 'Z',\n",
       " 'z',\n",
       " 'z',\n",
       " 'z']"
      ]
     },
     "execution_count": 2,
     "metadata": {},
     "output_type": "execute_result"
    }
   ],
   "source": [
    "arr = \"AbCDddLmMnOBcddZzzz\"\n",
    "list(arr).sort()\n"
   ]
  }
 ],
 "metadata": {
  "kernelspec": {
   "display_name": "Python 3",
   "language": "python",
   "name": "python3"
  },
  "language_info": {
   "codemirror_mode": {
    "name": "ipython",
    "version": 3
   },
   "file_extension": ".py",
   "mimetype": "text/x-python",
   "name": "python",
   "nbconvert_exporter": "python",
   "pygments_lexer": "ipython3",
   "version": "3.7.7"
  }
 },
 "nbformat": 4,
 "nbformat_minor": 4
}
