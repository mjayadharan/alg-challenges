{
 "cells": [
  {
   "cell_type": "markdown",
   "metadata": {},
   "source": [
    "Gary is an avid hiker. He tracks his hikes meticulously, paying close attention to small details like topography. During his last hike he took exactly  steps. For every step he took, he noted if it was an uphill, , or a downhill,  step. Gary's hikes start and end at sea level and each step up or down represents a  unit change in altitude. We define the following terms:\n",
    "\n",
    "A mountain is a sequence of consecutive steps above sea level, starting with a step up from sea level and ending with a step down to sea level.\n",
    "A valley is a sequence of consecutive steps below sea level, starting with a step down from sea level and ending with a step up to sea level.\n",
    "Given Gary's sequence of up and down steps during his last hike, find and print the number of valleys he walked through.\n",
    "\n",
    "For example, if Gary's path is , he first enters a valley  units deep. Then he climbs out an up onto a mountain  units high. Finally, he returns to sea level and ends his hike.\n",
    "\n",
    "Function Description\n",
    "\n",
    "Complete the countingValleys function in the editor below. It must return an integer that denotes the number of valleys Gary traversed.\n",
    "\n",
    "countingValleys has the following parameter(s):\n",
    "\n",
    "n: the number of steps Gary takes\n",
    "s: a string describing his path\n",
    "Input Format\n",
    "\n",
    "The first line contains an integer , the number of steps in Gary's hike.\n",
    "The second line contains a single string , of  characters that describe his path."
   ]
  },
  {
   "cell_type": "code",
   "execution_count": 7,
   "metadata": {},
   "outputs": [
    {
     "name": "stdout",
     "output_type": "stream",
     "text": [
      "2\n"
     ]
    }
   ],
   "source": [
    "# Complete the countingValleys function below.\n",
    "def countingValleys(n, s):\n",
    "    valley_count=0\n",
    "    old_altitude=0\n",
    "    new_altitude=0\n",
    "    valley_start=False\n",
    "    valley_end=False\n",
    "    for i in range(n):\n",
    "        if s[i]==\"U\":\n",
    "            old_altitude=new_altitude\n",
    "            new_altitude+=1\n",
    "        else:\n",
    "            old_altitude=new_altitude\n",
    "            new_altitude+=-1\n",
    "        if new_altitude<0 and old_altitude==0:\n",
    "            valley_start=True\n",
    "        elif new_altitude==0 and old_altitude<0:\n",
    "            valley_end=True\n",
    "        if valley_start and valley_end:\n",
    "            valley_count+=1\n",
    "            valley_start, valley_end= False, False\n",
    "    return valley_count\n",
    "\n",
    "if __name__==\"__main__\":\n",
    "    print(countingValleys(10,\"DDUUUUDDDU\"))"
   ]
  }
 ],
 "metadata": {
  "kernelspec": {
   "display_name": "Python 3",
   "language": "python",
   "name": "python3"
  },
  "language_info": {
   "codemirror_mode": {
    "name": "ipython",
    "version": 3
   },
   "file_extension": ".py",
   "mimetype": "text/x-python",
   "name": "python",
   "nbconvert_exporter": "python",
   "pygments_lexer": "ipython3",
   "version": "3.7.6"
  }
 },
 "nbformat": 4,
 "nbformat_minor": 4
}
