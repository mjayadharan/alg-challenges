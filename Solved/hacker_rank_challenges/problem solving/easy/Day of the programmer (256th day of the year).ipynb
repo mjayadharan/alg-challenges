{
 "cells": [
  {
   "cell_type": "markdown",
   "metadata": {},
   "source": [
    "Marie invented a Time Machine and wants to test it by time-traveling to visit Russia on the Day of the Programmer (the  day of the year) during a year in the inclusive range from  to .\n",
    "\n",
    "From  to , Russia's official calendar was the Julian calendar; since  they used the Gregorian calendar system. The transition from the Julian to Gregorian calendar system occurred in , when the next day after January  was February . This means that in , February  was the  day of the year in Russia.\n",
    "\n",
    "In both calendar systems, February is the only month with a variable amount of days; it has  days during a leap year, and  days during all other years. In the Julian calendar, leap years are divisible by ; in the Gregorian calendar, leap years are either of the following:\n",
    "\n",
    "Divisible by .\n",
    "Divisible by  and not divisible by .\n",
    "Given a year, , find the date of the  day of that year according to the official Russian calendar during that year. Then print it in the format dd.mm.yyyy, where dd is the two-digit day, mm is the two-digit month, and yyyy is .\n",
    "\n",
    "For example, the given .  is divisible by , so it is a leap year. The  day of a leap year after  is September 12, so the answer is .\n",
    "\n",
    "Function Description\n",
    "\n",
    "Complete the dayOfProgrammer function in the editor below. It should return a string representing the date of the  day of the year given.\n",
    "\n",
    "dayOfProgrammer has the following parameter(s):\n",
    "\n",
    "year: an integer"
   ]
  },
  {
   "cell_type": "code",
   "execution_count": 12,
   "metadata": {},
   "outputs": [
    {
     "name": "stdout",
     "output_type": "stream",
     "text": [
      "26.09.2017\n"
     ]
    }
   ],
   "source": [
    "def dayOfProgrammer(year):\n",
    "    normal_date = \"{:0>2d}.{:0>2d}.{:0>4d}\".format(13,9,year)\n",
    "    leap_year_date = \"{:0>2d}.{:0>2d}.{:0>4d}\".format(12,9,year)\n",
    "    special_year_date = \"{:0>2d}.{:0>2d}.{:0>4d}\".format(26,9,year)\n",
    "    if year==1918:\n",
    "        return special_year_date\n",
    "    elif year<1918 and year%4==0:\n",
    "        return leap_year_date\n",
    "    elif year <1918 and year%4!=0:\n",
    "        return normal_date\n",
    "    elif year>1918 and year%400==0:\n",
    "        return leap_year_date\n",
    "    elif year>1918 and year%4==0 and year%100!=0:\n",
    "        return leap_year_date\n",
    "    else:\n",
    "        return normal_date\n",
    "        \n",
    "    \n",
    "if __name__==\"__main__\":\n",
    "    print(dayOfProgrammer(1918))"
   ]
  }
 ],
 "metadata": {
  "kernelspec": {
   "display_name": "Python 3",
   "language": "python",
   "name": "python3"
  },
  "language_info": {
   "codemirror_mode": {
    "name": "ipython",
    "version": 3
   },
   "file_extension": ".py",
   "mimetype": "text/x-python",
   "name": "python",
   "nbconvert_exporter": "python",
   "pygments_lexer": "ipython3",
   "version": "3.7.6"
  }
 },
 "nbformat": 4,
 "nbformat_minor": 4
}
