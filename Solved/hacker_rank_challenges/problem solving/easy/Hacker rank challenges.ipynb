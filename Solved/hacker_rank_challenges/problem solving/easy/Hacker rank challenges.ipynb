{
 "cells": [
  {
   "cell_type": "markdown",
   "metadata": {},
   "source": [
    "Given a square matrix, calculate the absolute difference between the sums of its diagonals.\n",
    "\n",
    "For example, the square matrix  is shown below:\n",
    "\n",
    "1 2 3\n",
    "4 5 6\n",
    "9 8 9  \n",
    "The left-to-right diagonal = . The right to left diagonal = . Their absolute difference is .\n",
    "\n",
    "Function description\n",
    "\n",
    "Complete the  function in the editor below. It must return an integer representing the absolute diagonal difference.\n",
    "\n",
    "diagonalDifference takes the following parameter:\n",
    "\n",
    "arr: an array of integers ."
   ]
  },
  {
   "cell_type": "code",
   "execution_count": 10,
   "metadata": {},
   "outputs": [
    {
     "name": "stdout",
     "output_type": "stream",
     "text": [
      "length of the array is 3\n",
      "2\n"
     ]
    }
   ],
   "source": [
    "#\n",
    "# Complete the 'diagonalDifference' function below.\n",
    "#\n",
    "# The function is expected to return an INTEGER.\n",
    "# The function accepts 2D_INTEGER_ARRAY arr as parameter.\n",
    "#\n",
    "import math\n",
    "def diagonalDifference(arr):\n",
    "    diagonal_length = len(arr)\n",
    "    print(\"length of the array is {}\".format(diagonal_length))\n",
    "    diagonal_sum=0\n",
    "    secondary_diagonal_sum=0\n",
    "    for i in range(diagonal_length):\n",
    "        diagonal_sum+= arr[i][i]\n",
    "        secondary_diagonal_sum+= arr[i][diagonal_length-i-1]\n",
    "\n",
    "    return abs(diagonal_sum-secondary_diagonal_sum)\n",
    "if __name__ == '__main__':\n",
    "    test_array = [[1, 2, 3], [4, 5, 6], [9, 8, 9]]\n",
    "    print(diagonalDifference(test_array))"
   ]
  },
  {
   "cell_type": "markdown",
   "metadata": {},
   "source": [
    "Done\n"
   ]
  },
  {
   "cell_type": "markdown",
   "metadata": {},
   "source": [
    "### Creating a array of n elements"
   ]
  },
  {
   "cell_type": "code",
   "execution_count": 14,
   "metadata": {},
   "outputs": [
    {
     "data": {
      "text/plain": [
       "[0, 0, 0, 0]"
      ]
     },
     "execution_count": 14,
     "metadata": {},
     "output_type": "execute_result"
    }
   ],
   "source": [
    "list_4 = [0]*4\n",
    "list_4"
   ]
  },
  {
   "cell_type": "markdown",
   "metadata": {},
   "source": [
    "Given an array of integers, calculate the fractions of its elements that are positive, negative, and are zeros. Print the decimal value of each fraction on a new line."
   ]
  },
  {
   "cell_type": "code",
   "execution_count": 18,
   "metadata": {},
   "outputs": [],
   "source": [
    "def plusMinus(arr):\n",
    "    fraction_array =[0]*3\n",
    "    array_size = len(arr)\n",
    "    for num in arr:\n",
    "        if num>0:\n",
    "            fraction_array[0]+=1\n",
    "        elif num<0:\n",
    "            fraction_array[1]+=1\n",
    "        else:\n",
    "            fraction_array[2]+=1\n",
    "    for i in range(len(fraction_array)):\n",
    "        print(fraction_array[i]/array_size)\n",
    "    "
   ]
  },
  {
   "cell_type": "markdown",
   "metadata": {},
   "source": [
    "__Consider a staircase of size :_\n",
    "\n",
    "   #\n",
    "  ##\n",
    " ###\n",
    "####\n",
    "Observe that its base and height are both equal to , and the image is drawn using # symbols and spaces. The last line is not preceded by any spaces.\n",
    "\n",
    "__Write a program that prints a staircase of size ._\n",
    "     #\n",
    "    ##\n",
    "   ###\n",
    "  ####\n",
    " #####\n",
    "######\n"
   ]
  },
  {
   "cell_type": "code",
   "execution_count": 29,
   "metadata": {},
   "outputs": [
    {
     "name": "stdout",
     "output_type": "stream",
     "text": [
      "     #\n",
      "    ##\n",
      "   ###\n",
      "  ####\n",
      " #####\n",
      "######\n"
     ]
    }
   ],
   "source": [
    "def staircase(n):\n",
    "    for i in range(1,n+1):\n",
    "        white_space = \" \"\n",
    "        print(white_space*(n-i)+\"#\"*i)   \n",
    "\n",
    "staircase(6)"
   ]
  },
  {
   "cell_type": "markdown",
   "metadata": {},
   "source": [
    "__Given five positive integers, find the minimum and maximum values that can be calculated by summing exactly four of the five integers. Then print the respective minimum and maximum values as a single line of two space-separated long integers.__\n",
    "\n",
    "For example, . Our minimum sum is  and our maximum sum is . We would print\n",
    "\n",
    "16 24"
   ]
  },
  {
   "cell_type": "code",
   "execution_count": 35,
   "metadata": {},
   "outputs": [
    {
     "name": "stdout",
     "output_type": "stream",
     "text": [
      "10 14\n"
     ]
    }
   ],
   "source": [
    "def miniMaxSum(arr):\n",
    "    min_sum=sum(arr)\n",
    "    max_sum=0\n",
    "    for i in range(5):\n",
    "        possible_sum = sum(arr)-arr[i]\n",
    "        if possible_sum>max_sum:\n",
    "            max_sum=possible_sum\n",
    "        if possible_sum<min_sum:\n",
    "            min_sum = possible_sum\n",
    "    print(min_sum,max_sum)\n",
    "    \n",
    "miniMaxSum([1,2,3,4,5])"
   ]
  },
  {
   "cell_type": "markdown",
   "metadata": {},
   "source": [
    "**Given a time in -hour AM/PM format, convert it to military (24-hour) time.**\n",
    "\n",
    "Note: Midnight is 12:00:00AM on a 12-hour clock, and 00:00:00 on a 24-hour clock. Noon is 12:00:00PM on a 12-hour clock, and 12:00:00 on a 24-hour clock.\n",
    "\n",
    "Function Description\n",
    "\n",
    "Complete the timeConversion function in the editor below. It should return a new string representing the input time in 24 hour format.\n",
    "\n",
    "timeConversion has the following parameter(s):\n",
    "\n",
    "s: a string representing time in  hour format"
   ]
  },
  {
   "cell_type": "code",
   "execution_count": 61,
   "metadata": {},
   "outputs": [
    {
     "name": "stdout",
     "output_type": "stream",
     "text": [
      "12:05:45\n"
     ]
    }
   ],
   "source": [
    "def timeConversion(s):\n",
    "    hh=0\n",
    "    if(s[-2:]==\"PM\"):\n",
    "        hh = 12 + int(s[0:2])%12\n",
    "    elif(s[-2:]==\"AM\"):\n",
    "        hh = int(s[0:2])%12\n",
    "    time_split = s.split(\":\")\n",
    "    print(\"{:0>2d}:{:0>2d}:{:0>2d}\".format(hh,int(time_split[1]),int(time_split[2][0:2])))\n",
    "        \n",
    "\n",
    "        \n",
    "\n",
    "timeConversion(\"12:05:45PM\")"
   ]
  },
  {
   "cell_type": "markdown",
   "metadata": {},
   "source": [
    "**HackerLand University has the following grading policy:**\n",
    "\n",
    "Every student receives a  in the inclusive range from  to .\n",
    "Any  less than  is a failing grade.\n",
    "Sam is a professor at the university and likes to round each student's  according to these rules:\n",
    "\n",
    "If the difference between the  and the next multiple of  is less than , round  up to the next multiple of .\n",
    "If the value of  is less than , no rounding occurs as the result will still be a failing grade.\n",
    "For example,  will be rounded to  but  will not be rounded because the rounding would result in a number that is less than .\n",
    "\n",
    "Given the initial value of  for each of Sam's  students, write code to automate the rounding process."
   ]
  },
  {
   "cell_type": "code",
   "execution_count": 76,
   "metadata": {},
   "outputs": [
    {
     "name": "stdout",
     "output_type": "stream",
     "text": [
      "[75, 67, 40, 33]\n",
      "[75, 67, 40, 33]\n"
     ]
    }
   ],
   "source": [
    "def gradingStudents(grades):\n",
    "    # Write your code here\n",
    "    rounded_grades=[el+(5-el%5) if (el>37) and (el%5>2) else el for el in grades]\n",
    "    print(rounded_grades)\n",
    "#     for i in range(len(grades)):\n",
    "#         if (grades[i]>37) and (grades[i]%5>2):\n",
    "#             rounded_grades[i]=grades[i]+(5-grades[i]%5)\n",
    "    return rounded_grades\n",
    "            \n",
    "grades = [73, 67, 28, 38, 37, 80, 99]\n",
    "rounded_grades=gradingStudents([73,67,38,33])\n",
    "print(rounded_grades)\n",
    "        \n",
    "    "
   ]
  }
 ],
 "metadata": {
  "kernelspec": {
   "display_name": "Python 3",
   "language": "python",
   "name": "python3"
  },
  "language_info": {
   "codemirror_mode": {
    "name": "ipython",
    "version": 3
   },
   "file_extension": ".py",
   "mimetype": "text/x-python",
   "name": "python",
   "nbconvert_exporter": "python",
   "pygments_lexer": "ipython3",
   "version": "3.7.7"
  }
 },
 "nbformat": 4,
 "nbformat_minor": 4
}
