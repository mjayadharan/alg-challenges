{
 "cells": [
  {
   "cell_type": "markdown",
   "metadata": {},
   "source": [
    "**Sam's house has an apple tree and an orange tree that yield an abundance of fruit. In the diagram below, the red region denotes his house, where  is the start point, and  is the endpoint. The apple tree is to the left of his house, and the orange tree is to its right. You can assume the trees are located on a single point, where the apple tree is at point , and the orange tree is at point .**\n",
    "\n",
    "Apple and orange(2).png\n",
    "\n",
    "When a fruit falls from its tree, it lands  units of distance from its tree of origin along the -axis. A negative value of  means the fruit fell  units to the tree's left, and a positive value of  means it falls  units to the tree's right.\n",
    "\n",
    "Given the value of  for  apples and  oranges, determine how many apples and oranges will fall on Sam's house (i.e., in the inclusive range )?"
   ]
  },
  {
   "cell_type": "code",
   "execution_count": 11,
   "metadata": {},
   "outputs": [
    {
     "name": "stdout",
     "output_type": "stream",
     "text": [
      "1\n",
      "1\n"
     ]
    }
   ],
   "source": [
    "# Complete the countApplesAndOranges function below.\n",
    "def countApplesAndOranges(s, t, a, b, apples, oranges):\n",
    "    apple_sum=0\n",
    "    orange_sum=0\n",
    "    for apple in apples:\n",
    "        apple_sum+=1 if (apple>=0) and (a+apple<=t) and (a+apple>=s) else 0\n",
    "    for orange in oranges:\n",
    "        orange_sum+=1 if (orange<=0) and (b+orange>=s) and (b+orange<=t) else 0\n",
    "    print(apple_sum)\n",
    "    print(orange_sum)\n",
    "    \n",
    "countApplesAndOranges(7,11,5,15,[-2,2,1],[5,-6])"
   ]
  },
  {
   "cell_type": "code",
   "execution_count": null,
   "metadata": {},
   "outputs": [],
   "source": []
  },
  {
   "cell_type": "markdown",
   "metadata": {},
   "source": [
    "**Kangaroo problem**\n",
    "\n",
    "\n",
    "You are choreographing a circus show with various animals. For one act, you are given two kangaroos on a number line ready to jump in the positive direction (i.e, toward positive infinity).\n",
    "\n",
    "The first kangaroo starts at location  and moves at a rate of  meters per jump.\n",
    "The second kangaroo starts at location  and moves at a rate of  meters per jump.\n",
    "You have to figure out a way to get both kangaroos at the same location at the same time as part of the show. If it is possible, return YES, otherwise return NO.\n",
    "\n",
    "For example, kangaroo  starts at  with a jump distance  and kangaroo  starts at  with a jump distance of . After one jump, they are both at , (, ), so our answer is YES.\n",
    "\n",
    "Function Description\n",
    "\n",
    "Complete the function kangaroo in the editor below. It should return YES if they reach the same position at the same time, or NO if they don't.\n",
    "\n",
    "kangaroo has the following parameter(s):\n",
    "\n",
    "x1, v1: integers, starting position and jump distance for kangaroo 1\n",
    "x2, v2: integers, starting position and jump distance for kangaroo 2\n",
    "Input Format\n",
    "\n",
    "A single line of four space-separated integers denoting the respective values of , , , and .\n",
    "\n",
    "Print YES if they can land on the same location at the same time; otherwise, print NO.\n",
    "\n",
    "Note: The two kangaroos must land at the same location after making the same number of jumps."
   ]
  },
  {
   "cell_type": "code",
   "execution_count": 35,
   "metadata": {
    "collapsed": true
   },
   "outputs": [
    {
     "name": "stdout",
     "output_type": "stream",
     "text": [
      "Please enter x1,v1,x2,v2 separated by single space: \n"
     ]
    },
    {
     "ename": "ValueError",
     "evalue": "not enough values to unpack (expected 4, got 0)",
     "output_type": "error",
     "traceback": [
      "\u001b[0;31m---------------------------------------------------------------------------\u001b[0m",
      "\u001b[0;31mValueError\u001b[0m                                Traceback (most recent call last)",
      "\u001b[0;32m<ipython-input-35-4da754932855>\u001b[0m in \u001b[0;36m<module>\u001b[0;34m\u001b[0m\n\u001b[1;32m      2\u001b[0m \u001b[0minput_string\u001b[0m \u001b[0;34m=\u001b[0m \u001b[0minput\u001b[0m\u001b[0;34m(\u001b[0m\u001b[0;34m\"Please enter x1,v1,x2,v2 separated by single space: \"\u001b[0m\u001b[0;34m)\u001b[0m\u001b[0;34m\u001b[0m\u001b[0;34m\u001b[0m\u001b[0m\n\u001b[1;32m      3\u001b[0m \u001b[0;34m\u001b[0m\u001b[0m\n\u001b[0;32m----> 4\u001b[0;31m \u001b[0mx_1\u001b[0m\u001b[0;34m,\u001b[0m\u001b[0mv_1\u001b[0m\u001b[0;34m,\u001b[0m\u001b[0mx_2\u001b[0m\u001b[0;34m,\u001b[0m\u001b[0mv_2\u001b[0m \u001b[0;34m=\u001b[0m \u001b[0minput_string\u001b[0m\u001b[0;34m.\u001b[0m\u001b[0msplit\u001b[0m\u001b[0;34m(\u001b[0m\u001b[0;34m)\u001b[0m\u001b[0;34m\u001b[0m\u001b[0;34m\u001b[0m\u001b[0m\n\u001b[0m\u001b[1;32m      5\u001b[0m \u001b[0mx_1\u001b[0m\u001b[0;34m,\u001b[0m\u001b[0mv_1\u001b[0m\u001b[0;34m,\u001b[0m\u001b[0mx_2\u001b[0m\u001b[0;34m,\u001b[0m\u001b[0mv_2\u001b[0m \u001b[0;34m=\u001b[0m \u001b[0mint\u001b[0m\u001b[0;34m(\u001b[0m\u001b[0mx_1\u001b[0m\u001b[0;34m)\u001b[0m\u001b[0;34m,\u001b[0m\u001b[0mint\u001b[0m\u001b[0;34m(\u001b[0m\u001b[0mv_1\u001b[0m\u001b[0;34m)\u001b[0m\u001b[0;34m,\u001b[0m\u001b[0mint\u001b[0m\u001b[0;34m(\u001b[0m\u001b[0mx_2\u001b[0m\u001b[0;34m)\u001b[0m\u001b[0;34m,\u001b[0m\u001b[0mint\u001b[0m\u001b[0;34m(\u001b[0m\u001b[0mv_2\u001b[0m\u001b[0;34m)\u001b[0m\u001b[0;34m\u001b[0m\u001b[0;34m\u001b[0m\u001b[0m\n\u001b[1;32m      6\u001b[0m \u001b[0;31m# #current_positions of kangaroo 1 and 2\u001b[0m\u001b[0;34m\u001b[0m\u001b[0;34m\u001b[0m\u001b[0;34m\u001b[0m\u001b[0m\n",
      "\u001b[0;31mValueError\u001b[0m: not enough values to unpack (expected 4, got 0)"
     ]
    }
   ],
   "source": [
    "# Taking the input\n",
    "input_string = input(\"Please enter x1,v1,x2,v2 separated by single space: \")\n",
    "\n",
    "x_1,v_1,x_2,v_2 = input_string.split()\n",
    "x_1,v_1,x_2,v_2 = int(x_1),int(v_1),int(x_2),int(v_2)\n",
    "# #current_positions of kangaroo 1 and 2\n",
    "# c_1, c_2 = 0,0\n",
    "if(x_1>x_2):\n",
    "    dummy_pos = x_2\n",
    "    dummy_vel = v_2\n",
    "    x_2=x_1\n",
    "    v_2=v_1\n",
    "    x_1=dummy_pos\n",
    "    v_1=dummy_vel\n",
    "    \n",
    "if (v_1>=v_2):\n",
    "    #intial steps to take so that kang_1 has to cover to reach near x_2\n",
    "    if(v_1-v_2==0):\n",
    "        print(\"NO\")\n",
    "    elif((x_2-x_1)%(v_1-v_2)==0):\n",
    "        print(\"YES\")\n",
    "    else:\n",
    "        print(\"NO\")\n",
    "        \n",
    "# print(x_1,v_1,x_2,v_2)\n"
   ]
  },
  {
   "cell_type": "code",
   "execution_count": null,
   "metadata": {},
   "outputs": [],
   "source": []
  },
  {
   "cell_type": "markdown",
   "metadata": {},
   "source": [
    "## Between two numbers\n",
    "\n",
    "You will be given two arrays of integers and asked to determine all integers that satisfy the following two conditions:\n",
    "\n",
    "The elements of the first array are all factors of the integer being considered\n",
    "The integer being considered is a factor of all elements of the second array\n",
    "These numbers are referred to as being between the two arrays. You must determine how many such numbers exist.\n",
    "\n",
    "For example, given the arrays  and , there are two numbers between them:  and . , ,  and  for the first value. Similarly, ,  and , .\n",
    "\n",
    "Function Description\n",
    "\n",
    "Complete the getTotalX function in the editor below. It should return the number of integers that are betwen the sets.\n",
    "\n",
    "getTotalX has the following parameter(s):\n",
    "\n",
    "a: an array of integers\n",
    "b: an array of integers"
   ]
  },
  {
   "cell_type": "code",
   "execution_count": 55,
   "metadata": {},
   "outputs": [
    {
     "name": "stdout",
     "output_type": "stream",
     "text": [
      "4 16\n",
      "3\n"
     ]
    },
    {
     "data": {
      "text/plain": [
       "3"
      ]
     },
     "execution_count": 55,
     "metadata": {},
     "output_type": "execute_result"
    }
   ],
   "source": [
    "import math\n",
    "\n",
    "def getLcm(a,b):\n",
    "    '''(int,int)->int\n",
    "        output: lcm of two integers a and b\n",
    "    '''\n",
    "    return abs(a*b)//math.gcd(a,b)\n",
    "def getTotalX(arr_a, arr_b):\n",
    "    #finding gcd of arr_b\n",
    "    gcd_final = arr_b[0]\n",
    "    for number in arr_b:\n",
    "        gcd_final = math.gcd(gcd_final,number)\n",
    "    #finding lcm of arr_a\n",
    "    lcm_final = arr_a[0]\n",
    "    for number in arr_a:\n",
    "        lcm_final = getLcm(lcm_final,number)\n",
    "    print(lcm_final,gcd_final)\n",
    "    #storing the count to be returned\n",
    "    int_count = 0\n",
    "    for i in range(gcd_final//lcm_final):\n",
    "        if gcd_final%(lcm_final*(i+1))==0:\n",
    "            int_count+=1\n",
    "        \n",
    "    print(int_count)\n",
    "    return int_count\n",
    "    \n",
    "answer = getTotalX([2,4],[16,32,96])\n",
    "answer\n",
    "    "
   ]
  }
 ],
 "metadata": {
  "kernelspec": {
   "display_name": "Python 3",
   "language": "python",
   "name": "python3"
  },
  "language_info": {
   "codemirror_mode": {
    "name": "ipython",
    "version": 3
   },
   "file_extension": ".py",
   "mimetype": "text/x-python",
   "name": "python",
   "nbconvert_exporter": "python",
   "pygments_lexer": "ipython3",
   "version": "3.7.7"
  }
 },
 "nbformat": 4,
 "nbformat_minor": 4
}
