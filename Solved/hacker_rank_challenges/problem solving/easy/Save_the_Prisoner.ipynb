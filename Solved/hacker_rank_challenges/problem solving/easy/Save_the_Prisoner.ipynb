{
 "cells": [
  {
   "cell_type": "markdown",
   "metadata": {},
   "source": [
    "A jail has a number of prisoners and a number of treats to pass out to them. Their jailer decides the fairest way to divide the treats is to seat the prisoners around a circular table in sequentially numbered chairs. A chair number will be drawn from a hat. Beginning with the prisoner in that chair, one candy will be handed to each prisoner sequentially around the table until all have been distributed.\n",
    "\n",
    "The jailer is playing a little joke, though. The last piece of candy looks like all the others, but it tastes awful. Determine the chair number occupied by the prisoner who will receive that candy.\n",
    "\n",
    "For example, there are  prisoners and  pieces of candy. The prisoners arrange themselves in seats numbered  to . Let's suppose two is drawn from the hat. Prisoners receive candy at positions . The prisoner to be warned sits in chair number .\n",
    "\n",
    "Function Description\n",
    "\n",
    "Complete the saveThePrisoner function in the editor below. It should return an integer representing the chair number of the prisoner to warn.\n",
    "\n",
    "saveThePrisoner has the following parameter(s):\n",
    "\n",
    "n: an integer, the number of prisoners\n",
    "m: an integer, the number of sweets\n",
    "s: an integer, the chair number to begin passing out sweets from"
   ]
  },
  {
   "cell_type": "code",
   "execution_count": 12,
   "metadata": {},
   "outputs": [],
   "source": [
    "# Enter your code here. Read input from STDIN. Print output to STDOUT\n",
    "def saveThePrisoner(n,m,s):\n",
    "    if (m+s-1)%n ==0:\n",
    "        return n\n",
    "    else:\n",
    "        return (m+s-1)%n\n",
    "\n",
    "# if __name__==\"__main__\":\n",
    "#     t = int(input().strip())\n",
    "#     for i in range(t):\n",
    "#         n,m,s = list(map(int,input().strip().split()))\n",
    "#         result = saveThePrisoner(n,m,s)\n",
    "#         print(result)"
   ]
  }
 ],
 "metadata": {
  "kernelspec": {
   "display_name": "Python 3",
   "language": "python",
   "name": "python3"
  },
  "language_info": {
   "codemirror_mode": {
    "name": "ipython",
    "version": 3
   },
   "file_extension": ".py",
   "mimetype": "text/x-python",
   "name": "python",
   "nbconvert_exporter": "python",
   "pygments_lexer": "ipython3",
   "version": "3.7.6"
  }
 },
 "nbformat": 4,
 "nbformat_minor": 4
}
