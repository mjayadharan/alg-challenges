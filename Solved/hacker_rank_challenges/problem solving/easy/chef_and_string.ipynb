{
 "cells": [
  {
   "cell_type": "code",
   "execution_count": 5,
   "metadata": {},
   "outputs": [
    {
     "name": "stdout",
     "output_type": "stream",
     "text": [
      "1 \n",
      "4\n",
      "1 3 5 7\n",
      "3\n"
     ]
    }
   ],
   "source": [
    "\n",
    "\n",
    "if __name__==\"__main__\":\n",
    "    T = int(input().strip())\n",
    "    \n",
    "    for _ in range(T):\n",
    "        N = int(input())\n",
    "        Strig_nums = list(map(int,input().strip().split()))\n",
    "        num_skips = sum([max(0,abs(Strig_nums[i+1]-Strig_nums[i])-1) \\\n",
    "                        for i in range(N-1)])\n",
    "        print(num_skips)"
   ]
  }
 ],
 "metadata": {
  "kernelspec": {
   "display_name": "Python 3",
   "language": "python",
   "name": "python3"
  },
  "language_info": {
   "codemirror_mode": {
    "name": "ipython",
    "version": 3
   },
   "file_extension": ".py",
   "mimetype": "text/x-python",
   "name": "python",
   "nbconvert_exporter": "python",
   "pygments_lexer": "ipython3",
   "version": "3.7.7"
  }
 },
 "nbformat": 4,
 "nbformat_minor": 4
}
