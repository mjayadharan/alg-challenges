{
 "cells": [
  {
   "cell_type": "markdown",
   "metadata": {},
   "source": [
    "Alice is playing an arcade game and wants to climb to the top of the leaderboard and wants to track her ranking. The game uses Dense Ranking, so its leaderboard works like this:\n",
    "\n",
    "The player with the highest score is ranked number  on the leaderboard.\n",
    "Players who have equal scores receive the same ranking number, and the next player(s) receive the immediately following ranking number.\n",
    "For example, the four players on the leaderboard have high scores of , , , and . Those players will have ranks , , , and , respectively. If Alice's scores are ,  and , her rankings after each game are ,  and .\n",
    "\n",
    "Function Description\n",
    "\n",
    "Complete the climbingLeaderboard function in the editor below. It should return an integer array where each element  represents Alice's rank after the  game.\n",
    "\n",
    "climbingLeaderboard has the following parameter(s):\n",
    "\n",
    "scores: an array of integers that represent leaderboard scores\n",
    "alice: an array of integers that represent Alice's scores\n",
    "Input Format\n",
    "\n",
    "The first line contains an integer , the number of players on the leaderboard.\n",
    "The next line contains  space-separated integers , the leaderboard scores in decreasing order.\n",
    "The next line contains an integer, , denoting the number games Alice plays.\n",
    "The last line contains  space-separated integers , the game scores."
   ]
  },
  {
   "cell_type": "code",
   "execution_count": 2,
   "metadata": {},
   "outputs": [],
   "source": [
    "    # Complete the climbingLeaderboard function below.\n",
    "#\n",
    "def climbingLeaderboard(scores, alice):\n",
    "        alice_rank=[]\n",
    "        scores_set = set(scores)\n",
    "        unique_scores = list(scores_set)\n",
    "        unique_scores.sort(reverse=True)\n",
    "        # unique_scores=[]\n",
    "        # for score in scores:\n",
    "        #     if score not in unique_scores:\n",
    "        #         unique_scores.append(score)\n",
    "        start_iter = len(unique_scores)-1\n",
    "        for alice_score in alice:      \n",
    "            for rank in range(start_iter,-1,-1):\n",
    "                if unique_scores[rank]>alice_score:\n",
    "                    alice_rank.append(rank+2)\n",
    "                    start_iter=rank\n",
    "                    break\n",
    "                elif rank== 0:\n",
    "                    alice_rank.append(rank+1)\n",
    "\n",
    "        return alice_rank"
   ]
  }
 ],
 "metadata": {
  "kernelspec": {
   "display_name": "Python 3",
   "language": "python",
   "name": "python3"
  },
  "language_info": {
   "codemirror_mode": {
    "name": "ipython",
    "version": 3
   },
   "file_extension": ".py",
   "mimetype": "text/x-python",
   "name": "python",
   "nbconvert_exporter": "python",
   "pygments_lexer": "ipython3",
   "version": "3.7.7"
  }
 },
 "nbformat": 4,
 "nbformat_minor": 4
}
