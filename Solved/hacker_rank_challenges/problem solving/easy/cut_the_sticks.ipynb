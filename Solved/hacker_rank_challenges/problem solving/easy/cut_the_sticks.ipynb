{
 "cells": [
  {
   "cell_type": "markdown",
   "metadata": {},
   "source": [
    "You are given a number of sticks of varying lengths. You will iteratively cut the sticks into smaller sticks, discarding the shortest pieces until there are none left. At each iteration you will determine the length of the shortest stick remaining, cut that length from each of the longer sticks and then discard all the pieces of that shortest length. When all the remaining sticks are the same length, they cannot be shortened so discard them.\n",
    "\n",
    "Given the lengths of  sticks, print the number of sticks that are left before each iteration until there are none left.\n",
    "\n",
    "For example, there are  sticks of lengths . The shortest stick length is , so we cut that length from the longer two and discard the pieces of length . Now our lengths are . Again, the shortest stick is of length , so we cut that amount from the longer stick and discard those pieces. There is only one stick left, , so we discard that stick. Our lengths are .\n",
    "\n",
    "Function Description\n",
    "\n",
    "Complete the cutTheSticks function in the editor below. It should return an array of integers representing the number of sticks before each cut operation is performed.\n",
    "\n",
    "cutTheSticks has the following parameter(s):\n",
    "\n",
    "arr: an array of integers representing the length of each stick"
   ]
  },
  {
   "cell_type": "code",
   "execution_count": 1,
   "metadata": {},
   "outputs": [],
   "source": [
    "# Enter your code here. Read input from STDIN. Print output to STDOUT\n",
    "def cutTheSticks(arr):\n",
    "    n = len(arr)\n",
    "    stick_num=[n]\n",
    "    while(len(arr)>0):\n",
    "        short_length = min(arr)\n",
    "        arr= [el for el in arr if el>short_length]\n",
    "        if(len(arr)>0):\n",
    "            stick_num.append(len(arr))\n",
    "    return stick_num\n",
    "\n",
    "\n",
    "\n",
    "\n",
    "\n",
    "# if __name__==\"__main__\":\n",
    "#     n = int(input().strip())\n",
    "#     arr = list(map(int,input().strip().split()))\n",
    "#     result_array = cutTheSticks(arr)\n",
    "#     for result in result_array:\n",
    "#         print(result)\n"
   ]
  }
 ],
 "metadata": {
  "kernelspec": {
   "display_name": "Python 3",
   "language": "python",
   "name": "python3"
  },
  "language_info": {
   "codemirror_mode": {
    "name": "ipython",
    "version": 3
   },
   "file_extension": ".py",
   "mimetype": "text/x-python",
   "name": "python",
   "nbconvert_exporter": "python",
   "pygments_lexer": "ipython3",
   "version": "3.7.7"
  }
 },
 "nbformat": 4,
 "nbformat_minor": 4
}
