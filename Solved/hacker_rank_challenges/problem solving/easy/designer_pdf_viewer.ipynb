{
 "cells": [
  {
   "cell_type": "markdown",
   "metadata": {},
   "source": [
    "When you select a contiguous block of text in a PDF viewer, the selection is highlighted with a blue rectangle. In this PDF viewer, each word is highlighted independently. For example:\n",
    "\n",
    "PDF-highighting.png\n",
    "\n",
    "In this challenge, you will be given a list of letter heights in the alphabet and a string. Using the letter heights given, determine the area of the rectangle highlight in  assuming all letters are  wide.\n",
    "\n",
    "For example, the highlighted . Assume the heights of the letters are  and . The tallest letter is  high and there are  letters. The hightlighted area will be  so the answer is .\n",
    "\n",
    "Function Description\n",
    "\n",
    "Complete the designerPdfViewer function in the editor below. It should return an integer representing the size of the highlighted area.\n",
    "\n",
    "designerPdfViewer has the following parameter(s):\n",
    "\n",
    "h: an array of integers representing the heights of each letter\n",
    "word: a string\n",
    "Input Format\n",
    "\n",
    "The first line contains  space-separated integers describing the respective heights of each consecutive lowercase English letter, ascii[a-z]."
   ]
  },
  {
   "cell_type": "code",
   "execution_count": 1,
   "metadata": {},
   "outputs": [],
   "source": [
    "def designerPdfViewer(h,word):\n",
    "    alphabets = \"abcdefghijklmnopqrstuvwxyz\"\n",
    "    assert(len(h)==len(alphabets))\n",
    "    height_dic ={}\n",
    "    for i in range(len(alphabets)):\n",
    "        height_dic[alphabets[i]]=h[i]\n",
    "    word_height=0\n",
    "    for i in range(len(word)):\n",
    "        if height_dic[word[i]]>word_height:\n",
    "            word_height = height_dic[word[i]]\n",
    "    return word_height*len(word)\n",
    "\n",
    "\n",
    "\n",
    "# if __name__==\"__main__\":\n",
    "#     h = list(map(int,input().strip().split()))\n",
    "#     word = input().strip()\n",
    "#     print(designerPdfViewer(h,word))"
   ]
  }
 ],
 "metadata": {
  "kernelspec": {
   "display_name": "Python 3",
   "language": "python",
   "name": "python3"
  },
  "language_info": {
   "codemirror_mode": {
    "name": "ipython",
    "version": 3
   },
   "file_extension": ".py",
   "mimetype": "text/x-python",
   "name": "python",
   "nbconvert_exporter": "python",
   "pygments_lexer": "ipython3",
   "version": "3.7.7"
  }
 },
 "nbformat": 4,
 "nbformat_minor": 4
}
