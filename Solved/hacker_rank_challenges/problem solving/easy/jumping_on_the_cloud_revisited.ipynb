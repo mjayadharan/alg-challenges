{
 "cells": [
  {
   "cell_type": "markdown",
   "metadata": {},
   "source": [
    "Aerith is playing a cloud hopping game. In this game, there are sequentially numbered clouds that can be thunderheads or cumulus clouds. Her character must jump from cloud to cloud until it reaches the start again.\n",
    "\n",
    "To play, Aerith is given an array of clouds,  and an energy level . She starts from  and uses  unit of energy to make a jump of size  to cloud . If Aerith lands on a thundercloud, , her energy () decreases by  additional units. The game ends when Aerith lands back on cloud .\n",
    "\n",
    "Given the values of , , and the configuration of the clouds as an array , can you determine the final value of  after the game ends?\n",
    "\n",
    "For example, give  and , the indices of her path are . Her energy level reduces by  for each jump to . She landed on one thunderhead at an additional cost of  energy units. Her final energy level is .\n",
    "\n",
    "Note: Recall that  refers to the modulo operation. In this case, it serves to make the route circular. If Aerith is at  and jumps , she will arrive at .\n",
    "\n",
    "Function Description\n",
    "\n",
    "Complete the jumpingOnClouds function in the editor below. It should return an integer representing the energy level remaining after the game.\n",
    "\n",
    "jumpingOnClouds has the following parameter(s):\n",
    "\n",
    "c: an array of integers representing cloud types\n",
    "k: an integer representing the length of one jump"
   ]
  },
  {
   "cell_type": "code",
   "execution_count": 1,
   "metadata": {},
   "outputs": [],
   "source": [
    "#!/bin/python3\n",
    "\n",
    "import math\n",
    "import os\n",
    "import random\n",
    "import re\n",
    "import sys\n",
    "\n",
    "# Complete the jumpingOnClouds function below.\n",
    "def jumpingOnClouds(c, k):\n",
    "    n = len(c)\n",
    "    num_of_jumps = n//k\n",
    "    score = 100\n",
    "    old_position=0\n",
    "    new_position=0\n",
    "    while(True):\n",
    "        score-=1\n",
    "        old_position=new_position\n",
    "        new_position = (old_position + k)%n\n",
    "        score -= 2*c[new_position]\n",
    "        if(new_position==0):\n",
    "            break\n",
    "        \n",
    "    return score\n",
    "\n",
    "# if __name__ == '__main__':\n",
    "#     fptr = open(os.environ['OUTPUT_PATH'], 'w')\n",
    "\n",
    "#     nk = input().split()\n",
    "\n",
    "#     n = int(nk[0])\n",
    "\n",
    "#     k = int(nk[1])\n",
    "\n",
    "#     c = list(map(int, input().rstrip().split()))\n",
    "\n",
    "#     result = jumpingOnClouds(c, k)\n",
    "\n",
    "#     fptr.write(str(result) + '\\n')\n",
    "\n",
    "#     fptr.close()\n"
   ]
  }
 ],
 "metadata": {
  "kernelspec": {
   "display_name": "Python 3",
   "language": "python",
   "name": "python3"
  },
  "language_info": {
   "codemirror_mode": {
    "name": "ipython",
    "version": 3
   },
   "file_extension": ".py",
   "mimetype": "text/x-python",
   "name": "python",
   "nbconvert_exporter": "python",
   "pygments_lexer": "ipython3",
   "version": "3.7.7"
  }
 },
 "nbformat": 4,
 "nbformat_minor": 4
}
