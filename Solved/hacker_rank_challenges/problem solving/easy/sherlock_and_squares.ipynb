{
 "cells": [
  {
   "cell_type": "markdown",
   "metadata": {},
   "source": [
    "Watson likes to challenge Sherlock's math ability. He will provide a starting and ending value describing a range of integers. Sherlock must determine the number of square integers within that range, inclusive of the endpoints.\n",
    "\n",
    "Note: A square integer is an integer which is the square of an integer, e.g. .\n",
    "\n",
    "For example, the range is  and , inclusive. There are three square integers in the range:  and .\n",
    "\n",
    "Function Description\n",
    "\n",
    "Complete the squares function in the editor below. It should return an integer representing the number of square integers in the inclusive range from  to .\n",
    "\n",
    "squares has the following parameter(s):\n",
    "\n",
    "a: an integer, the lower range boundary\n",
    "b: an integer, the uppere range boundary"
   ]
  },
  {
   "cell_type": "code",
   "execution_count": 1,
   "metadata": {},
   "outputs": [],
   "source": [
    "import math\n",
    "# Enter your code here. Read input from STDIN. Print output to STDOUT\n",
    "def squares(a,b):\n",
    "    num_squares =0\n",
    "    sq_a = math.sqrt(a)\n",
    "    sq_b = math.sqrt(b)\n",
    "    # print(sq_a,sq_b)\n",
    "    # if a==b:\n",
    "    #     return 0\n",
    "    # else:\n",
    "    return math.floor(sq_b+1)-math.ceil(sq_a)\n",
    "\n",
    "\n",
    "\n",
    "# if __name__==\"__main__\":\n",
    "#     q = int(input().strip())\n",
    "#     for i in range(q):\n",
    "#         a,b= list(map(int,input().strip().split()))\n",
    "#         print(squares(a,b))\n"
   ]
  }
 ],
 "metadata": {
  "kernelspec": {
   "display_name": "Python 3",
   "language": "python",
   "name": "python3"
  },
  "language_info": {
   "codemirror_mode": {
    "name": "ipython",
    "version": 3
   },
   "file_extension": ".py",
   "mimetype": "text/x-python",
   "name": "python",
   "nbconvert_exporter": "python",
   "pygments_lexer": "ipython3",
   "version": "3.7.7"
  }
 },
 "nbformat": 4,
 "nbformat_minor": 4
}
