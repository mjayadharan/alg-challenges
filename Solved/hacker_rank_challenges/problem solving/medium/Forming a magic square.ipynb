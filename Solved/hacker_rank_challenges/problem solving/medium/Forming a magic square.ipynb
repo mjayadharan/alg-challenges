{
 "cells": [
  {
   "cell_type": "markdown",
   "metadata": {},
   "source": [
    "We define a magic square to be an  matrix of distinct positive integers from  to  where the sum of any row, column, or diagonal of length  is always equal to the same number: the magic constant.\n",
    "\n",
    "You will be given a  matrix  of integers in the inclusive range . We can convert any digit  to any other digit  in the range  at cost of . Given , convert it into a magic square at minimal cost. Print this cost on a new line.\n",
    "\n",
    "Note: The resulting magic square must contain distinct integers in the inclusive range .\n",
    "\n",
    "For example, we start with the following matrix :\n",
    "\n",
    "5 3 4\n",
    "1 5 8\n",
    "6 4 2\n",
    "We can convert it to the following magic square:\n",
    "\n",
    "8 3 4\n",
    "1 5 9\n",
    "6 7 2\n",
    "This took three replacements at a cost of .\n",
    "\n",
    "Function Description\n",
    "\n",
    "Complete the formingMagicSquare function in the editor below. It should return an integer that represents the minimal total cost of converting the input square to a magic square.\n",
    "\n",
    "formingMagicSquare has the following parameter(s):\n",
    "\n",
    "s: a  array of integers"
   ]
  },
  {
   "cell_type": "code",
   "execution_count": 56,
   "metadata": {},
   "outputs": [
    {
     "name": "stdout",
     "output_type": "stream",
     "text": [
      "1\n"
     ]
    }
   ],
   "source": [
    "# import magic_module as mm\n",
    "\n",
    "# magic_square_1 = mm.GiveMagicSquare_3()\n",
    "# magic_square_1.output_square()\n",
    "# #Getting the magic squares\n",
    "# magic_squares = magic_square_1.magic_square_list\n",
    "magic_squares= [[(2, 7, 6), (9, 5, 1), (4, 3, 8)], [(2, 9, 4), (7, 5, 3), (6, 1, 8)], [(4, 3, 8), (9, 5, 1), (2, 7, 6)], [(4, 9, 2), (3, 5, 7), (8, 1, 6)], [(6, 1, 8), (7, 5, 3), (2, 9, 4)], [(6, 7, 2), (1, 5, 9), (8, 3, 4)], [(8, 1, 6), (3, 5, 7), (4, 9, 2)], [(8, 3, 4), (1, 5, 9), (6, 7, 2)]]\n",
    "# print(magic_squares) \n",
    "\n",
    "# Complete the formingMagicSquare function below.\n",
    "def formingMagicSquare(s):\n",
    "    first_calc=True\n",
    "    min_cost=0\n",
    "    for magic_square in magic_squares:\n",
    "        cost = 0\n",
    "        for i in range(3):\n",
    "            for j in range(3):\n",
    "                cost+= abs(magic_square[i][j]-s[i][j])\n",
    "        if first_calc:\n",
    "            min_cost= cost\n",
    "            first_calc=False\n",
    "        elif min_cost>cost:\n",
    "            min_cost=cost\n",
    "    return min_cost\n",
    "\n",
    "# print(formingMagicSquare([[5,3,4],[1,5,8],[6,4,2]]))\n",
    "print(formingMagicSquare([[4,9,2],[3,5,7],[8,1,5]]))\n",
    "\n",
    "    \n"
   ]
  }
 ],
 "metadata": {
  "kernelspec": {
   "display_name": "Python 3",
   "language": "python",
   "name": "python3"
  },
  "language_info": {
   "codemirror_mode": {
    "name": "ipython",
    "version": 3
   },
   "file_extension": ".py",
   "mimetype": "text/x-python",
   "name": "python",
   "nbconvert_exporter": "python",
   "pygments_lexer": "ipython3",
   "version": "3.7.6"
  }
 },
 "nbformat": 4,
 "nbformat_minor": 4
}
