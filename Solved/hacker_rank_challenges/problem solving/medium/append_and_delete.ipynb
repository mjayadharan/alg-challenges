{
 "cells": [
  {
   "cell_type": "markdown",
   "metadata": {},
   "source": [
    "You have a string of lowercase English alphabetic letters. You can perform two types of operations on the string:\n",
    "\n",
    "Append a lowercase English alphabetic letter to the end of the string.\n",
    "Delete the last character in the string. Performing this operation on an empty string results in an empty string.\n",
    "Given an integer, , and two strings,  and , determine whether or not you can convert  to  by performing exactly  of the above operations on . If it's possible, print Yes. Otherwise, print No.\n",
    "\n",
    "For example, strings  and . Our number of moves, . To convert  to , we first delete all of the characters in  moves. Next we add each of the characters of  in order. On the  move, you will have the matching string. If there had been more moves available, they could have been eliminated by performing multiple deletions on an empty string. If there were fewer than  moves, we would not have succeeded in creating the new string.\n",
    "\n",
    "Function Description\n",
    "\n",
    "Complete the appendAndDelete function in the editor below. It should return a string, either Yes or No.\n",
    "\n",
    "appendAndDelete has the following parameter(s):\n",
    "\n",
    "s: the initial string\n",
    "t: the desired string\n",
    "k: an integer that represents the number of operations\n",
    "Input Format\n",
    "\n",
    "The first line contains a string , the initial string.\n",
    "The second line contains a string , the desired final string.\n",
    "The third line contains an integer , the number of operations."
   ]
  },
  {
   "cell_type": "code",
   "execution_count": 1,
   "metadata": {},
   "outputs": [],
   "source": [
    "# Enter your code here. Read input from STDIN. Print output to STDOUT\n",
    "def appendAndDelete(s,t,k):\n",
    "    common_length=0\n",
    "    for i in range(min(len(s),len(t))):\n",
    "        if s[i]==t[i]:\n",
    "            common_length+=1\n",
    "        else:\n",
    "            break\n",
    "    #Case A: k is too small for making changes\n",
    "    if len(s)+len(t)-2*common_length >k:\n",
    "        return \"No\"\n",
    "    #Case B: k is big enough to make all changes without trouble\n",
    "    elif k>=len(s)+len(t):\n",
    "        return \"Yes\"\n",
    "    #Case C: k is neither too big , small and exactly k operations could be done to conver s to t\n",
    "    elif ((len(s)+len(t)-2*common_length)%2==k%2):\n",
    "        return \"Yes\"\n",
    "    #Case D: every other case will fail\n",
    "    else:\n",
    "        return \"No\"\n",
    "\n",
    "\n",
    "\n",
    "# if __name__==\"__main__\":\n",
    "#     s = input().strip()\n",
    "#     t = input().strip()\n",
    "#     k = int(input().strip())\n",
    "#     print(appendAndDelete(s,t,k))"
   ]
  }
 ],
 "metadata": {
  "kernelspec": {
   "display_name": "Python 3",
   "language": "python",
   "name": "python3"
  },
  "language_info": {
   "codemirror_mode": {
    "name": "ipython",
    "version": 3
   },
   "file_extension": ".py",
   "mimetype": "text/x-python",
   "name": "python",
   "nbconvert_exporter": "python",
   "pygments_lexer": "ipython3",
   "version": "3.7.7"
  }
 },
 "nbformat": 4,
 "nbformat_minor": 4
}
