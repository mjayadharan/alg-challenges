{
 "cells": [
  {
   "cell_type": "markdown",
   "metadata": {},
   "source": [
    "# This module can be used to find the parity of a given array in O(n) time \n",
    "Idea is as follows:\n",
    "\n",
    "1) Convert the permutation into cycles.\n",
    "\n",
    "2) Suppose 0==even parity and 1==odd parity, then parity of a k-cycle is given by (k-1)%2.\n",
    "\n",
    "3) Find the parity of all the cycles: add them up and take mod 2 to get the parity of the permutation."
   ]
  },
  {
   "cell_type": "code",
   "execution_count": 72,
   "metadata": {},
   "outputs": [],
   "source": [
    "class permutation_calculations:\n",
    "    \n",
    "    '''\n",
    "        Class used to do calculate properties of Perumations of \n",
    "        integers 1,2,..,N\n",
    "        Author: Manu Jayadharan\n",
    "        Date: 06/25/2020\n",
    "\n",
    "    '''\n",
    "    \n",
    "    def __init__(self,a=[]):\n",
    "        self.a = a\n",
    "        self.index_array=[0]*len(self.a)\n",
    "        self.parity=0\n",
    "        \n",
    "    def cycle_length(self, fir_el, index):\n",
    "        '''\n",
    "        (int,int) -> int\n",
    "\n",
    "        Arguments:\n",
    "        first_el: first element of the cycle of consideration.\n",
    "        index: index of array self.a at which are starting to form\n",
    "                a cycle.\n",
    "\n",
    "        Output:\n",
    "        Returns an integer equal to the number of elements in the cycle.\n",
    "\n",
    "        '''\n",
    "        el_at_index =  self.a[index]\n",
    "        self.a[index] += len(self.a)\n",
    "        if index == fir_el-1:\n",
    "            return 1\n",
    "        else:\n",
    "            return 1 + self.cycle_length(fir_el,self.index_array\n",
    "                                         [index])\n",
    "            \n",
    "        \n",
    "\n",
    "    def find_parity(self):\n",
    "        '''\n",
    "        int[n] -> {0,1}\n",
    "\n",
    "        Arguments:\n",
    "        a: list of integers representing permutation of 1,2,..N\n",
    "\n",
    "        Output:\n",
    "        Returns int 0(even parity) or 1(odd parity)\n",
    "\n",
    "        '''\n",
    "        for index in range(len(self.a)):\n",
    "            self.index_array[self.a[index]-1] = index\n",
    "        self.parity = sum( [self.cycle_length(self.a[i],i)-1 \n",
    "                           for i in range(len(self.a)) if self.a[i]<len(self.a)] ) % 2\n",
    "        return self.parity\n",
    "    \n",
    "    \n",
    "    \n",
    "    "
   ]
  },
  {
   "cell_type": "code",
   "execution_count": 48,
   "metadata": {},
   "outputs": [
    {
     "name": "stdout",
     "output_type": "stream",
     "text": [
      "3\n",
      "[15, 9, 11, 7, 13]\n"
     ]
    }
   ],
   "source": [
    "a = [5,4,1,2,3]\n",
    "perm_cal = permutation_calculations(a)\n",
    "perm_cal.find_parity()\n",
    "# print(perm_cal.index_array)\n",
    "print(perm_cal.cycle_length(5,0))\n",
    "print(perm_cal.a)"
   ]
  },
  {
   "cell_type": "code",
   "execution_count": 45,
   "metadata": {},
   "outputs": [
    {
     "name": "stdout",
     "output_type": "stream",
     "text": [
      "2\n",
      "[8, 7, 6, 4, 3, 5]\n"
     ]
    }
   ],
   "source": [
    "a = [2,1,6,4,3,5]\n",
    "perm_cal = permutation_calculations(a)\n",
    "perm_cal.find_parity()\n",
    "# print(perm_cal.index_array)\n",
    "print(perm_cal.cycle_length(2,0))\n",
    "print(perm_cal.a)"
   ]
  },
  {
   "cell_type": "code",
   "execution_count": 68,
   "metadata": {},
   "outputs": [
    {
     "name": "stdout",
     "output_type": "stream",
     "text": [
      "0\n",
      "[5, 7, 8, 6]\n"
     ]
    }
   ],
   "source": [
    "a = [1, 3, 4, 2]\n",
    "perm_cal = permutation_calculations(a)\n",
    "print(perm_cal.find_parity())\n",
    "print(perm_cal.a)"
   ]
  }
 ],
 "metadata": {
  "kernelspec": {
   "display_name": "Python 3",
   "language": "python",
   "name": "python3"
  },
  "language_info": {
   "codemirror_mode": {
    "name": "ipython",
    "version": 3
   },
   "file_extension": ".py",
   "mimetype": "text/x-python",
   "name": "python",
   "nbconvert_exporter": "python",
   "pygments_lexer": "ipython3",
   "version": "3.7.7"
  }
 },
 "nbformat": 4,
 "nbformat_minor": 4
}
