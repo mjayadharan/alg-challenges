{
 "cells": [
  {
   "cell_type": "markdown",
   "metadata": {},
   "source": [
    "Given a sequence of  integers,  where each element is distinct and satisfies . For each  where , find any integer  such that  and print the value of  on a new line.\n",
    "\n",
    "For example, assume the sequence . Each value of  between  and , the length of the sequence, is analyzed as follows:\n",
    "\n",
    ", so \n",
    ", so \n",
    ", so \n",
    ", so \n",
    ", so \n",
    "The values for  are .\n",
    "\n",
    "Function Description\n",
    "\n",
    "Complete the permutationEquation function in the editor below. It should return an array of integers that represent the values of .\n",
    "\n",
    "permutationEquation has the following parameter(s):\n",
    "\n",
    "p: an array of integers\n",
    "Input Format\n",
    "\n",
    "The first line contains an integer , the number of elements in the sequence.\n",
    "The second line contains  space-separated integers  where ."
   ]
  },
  {
   "cell_type": "code",
   "execution_count": 1,
   "metadata": {},
   "outputs": [],
   "source": [
    "# Enter your code here. Read input from STDIN. Print output to STDOUT\n",
    "\n",
    "def permutationEquation(n,p):\n",
    "    result_array=[]\n",
    "    for i in range(n):\n",
    "        first_inverse = p.index(i+1)\n",
    "        second_inverse = p.index(first_inverse+1)\n",
    "        result_array.append(second_inverse+1)\n",
    "    return result_array\n",
    "\n",
    "\n",
    "\n",
    "\n",
    "# if __name__==\"__main__\":\n",
    "#     n =int(input().strip())\n",
    "#     p = list(map(int,input().strip().split()))\n",
    "#     result_array = permutationEquation(n,p)\n",
    "#     for result in result_array:\n",
    "#         print(result)"
   ]
  }
 ],
 "metadata": {
  "kernelspec": {
   "display_name": "Python 3",
   "language": "python",
   "name": "python3"
  },
  "language_info": {
   "codemirror_mode": {
    "name": "ipython",
    "version": 3
   },
   "file_extension": ".py",
   "mimetype": "text/x-python",
   "name": "python",
   "nbconvert_exporter": "python",
   "pygments_lexer": "ipython3",
   "version": "3.7.7"
  }
 },
 "nbformat": 4,
 "nbformat_minor": 4
}
