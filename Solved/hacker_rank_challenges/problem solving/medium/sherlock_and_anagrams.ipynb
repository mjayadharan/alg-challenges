{
 "cells": [
  {
   "cell_type": "markdown",
   "metadata": {},
   "source": []
  },
  {
   "cell_type": "code",
   "execution_count": 40,
   "metadata": {},
   "outputs": [],
   "source": [
    "#!/bin/python3\n",
    "\n",
    "import math\n",
    "import os\n",
    "import random\n",
    "import re\n",
    "import sys\n",
    "import string\n",
    "from collections import Counter\n",
    "\n",
    "def dict_to_string(counter_input):\n",
    "    output_string = \"\"\n",
    "    for el in lower_case_letters:\n",
    "        output_string+=str(counter_input.get(el,0))\n",
    "    return output_string\n",
    "            \n",
    "\n",
    "\n",
    "def num_sub_strings(str_len,sub_str_len):\n",
    "    return str_len-sub_str_len+1\n",
    "# Complete the sherlockAndAnagrams function below.\n",
    "def sherlockAndAnagrams(s):\n",
    "    num_pairs=0\n",
    "    n =len(s)\n",
    "    list_dic = [Counter()]*(n+1)\n",
    "    for i in range(1,n+1):\n",
    "        list_dic[i]=list_dic[i-1] + Counter(s[i-1])\n",
    "    for sub_str_len in range(1,n+1):\n",
    "        num_strings=num_sub_strings(n,sub_str_len)\n",
    "        # sub_string_set = set()\n",
    "        sub_string_list=[]\n",
    "        for i in range(num_strings):\n",
    "            current_counter = list_dic[i+sub_str_len]-list_dic[i]\n",
    "            print(current_counter)\n",
    "            new_string = dict_to_string(current_counter)\n",
    "            sub_string_list.append(new_string)\n",
    "        sub_string_counter=Counter(sub_string_list)\n",
    "        #Choosing a pair of two from the total set of anagrams. nC2\n",
    "        for el,values in sub_string_counter.items():\n",
    "            num_pairs+=values*(values-1)//2\n",
    "    return num_pairs\n",
    "\n",
    "\n",
    "\n",
    "    \n",
    "\n",
    "# if __name__ == '__main__':\n",
    "#     fptr = open(os.environ['OUTPUT_PATH'], 'w')\n",
    "#     lower_case_letters = string.ascii_lowercase\n",
    "#     q = int(input())\n",
    "\n",
    "#     for q_itr in range(q):\n",
    "#         s = input()\n",
    "\n",
    "#         result = sherlockAndAnagrams(s)\n",
    "\n",
    "#         fptr.write(str(result) + '\\n')\n",
    "\n",
    "#     fptr.close()\n"
   ]
  }
 ],
 "metadata": {
  "kernelspec": {
   "display_name": "Python 3",
   "language": "python",
   "name": "python3"
  },
  "language_info": {
   "codemirror_mode": {
    "name": "ipython",
    "version": 3
   },
   "file_extension": ".py",
   "mimetype": "text/x-python",
   "name": "python",
   "nbconvert_exporter": "python",
   "pygments_lexer": "ipython3",
   "version": "3.7.7"
  }
 },
 "nbformat": 4,
 "nbformat_minor": 4
}
