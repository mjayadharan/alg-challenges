{
 "cells": [
  {
   "cell_type": "code",
   "execution_count": 16,
   "metadata": {},
   "outputs": [
    {
     "name": "stdout",
     "output_type": "stream",
     "text": [
      "1\n",
      "2 3\n",
      "1 0 1\n",
      "1 1 0\n",
      "Vivek\n"
     ]
    }
   ],
   "source": [
    "def whoWin(arr,n,m):\n",
    "    num_moves_left=0\n",
    "    for i in range(n):\n",
    "        if sum(arr[i])==0:\n",
    "#             print(arr[i])\n",
    "            for j in range(m):\n",
    "                if sum([arr[k][j] for k in range(n)])==0:\n",
    "                    arr[i][j]=1\n",
    "#                     print(arr)\n",
    "                    num_moves_left+=1\n",
    "                    break\n",
    "    if num_moves_left%2==0:\n",
    "        return \"Vivek\"\n",
    "    else:\n",
    "        return \"Ashish\"\n",
    "\n",
    "t = int(input().strip())\n",
    "for _ in range(t):\n",
    "    n,m = list(map(int,input().strip().split()))\n",
    "    arr=[]\n",
    "    for _ in range(n):\n",
    "        arr.append(list(map(int,input().strip().split())))\n",
    "    print(whoWin(arr,n,m))\n",
    "    \n"
   ]
  }
 ],
 "metadata": {
  "kernelspec": {
   "display_name": "Python 3",
   "language": "python",
   "name": "python3"
  },
  "language_info": {
   "codemirror_mode": {
    "name": "ipython",
    "version": 3
   },
   "file_extension": ".py",
   "mimetype": "text/x-python",
   "name": "python",
   "nbconvert_exporter": "python",
   "pygments_lexer": "ipython3",
   "version": "3.7.7"
  }
 },
 "nbformat": 4,
 "nbformat_minor": 4
}
