{
 "cells": [
  {
   "cell_type": "code",
   "execution_count": 10,
   "metadata": {},
   "outputs": [
    {
     "name": "stdout",
     "output_type": "stream",
     "text": [
      "95 85\n",
      "85 95\n",
      "80 70\n",
      "70 65\n",
      "60 70\n",
      "78.288\n"
     ]
    }
   ],
   "source": [
    "import numpy as np\n",
    "from sklearn import linear_model\n",
    "\n",
    "if __name__==\"__main__\":\n",
    "    X = []\n",
    "    Y=[]\n",
    "    for _ in range(5):\n",
    "        x,y = list(map(float,input().strip().split()))\n",
    "        X.append(x)\n",
    "        Y.append(y)\n",
    "    X = np.array(X).reshape(len(X),1)\n",
    "    Y = np.array(Y)\n",
    "    lm = linear_model.LinearRegression()\n",
    "    lm.fit(X,Y)\n",
    "    Z = np.array([80]).reshape(1,-1)\n",
    "#     lm.predict(Z)\n",
    "    print(round(lm.coef_[0]*80.+lm.intercept_,3))"
   ]
  }
 ],
 "metadata": {
  "kernelspec": {
   "display_name": "Python 3",
   "language": "python",
   "name": "python3"
  },
  "language_info": {
   "codemirror_mode": {
    "name": "ipython",
    "version": 3
   },
   "file_extension": ".py",
   "mimetype": "text/x-python",
   "name": "python",
   "nbconvert_exporter": "python",
   "pygments_lexer": "ipython3",
   "version": "3.7.7"
  }
 },
 "nbformat": 4,
 "nbformat_minor": 4
}
