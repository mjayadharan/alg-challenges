{
 "cells": [
  {
   "cell_type": "code",
   "execution_count": 13,
   "metadata": {},
   "outputs": [
    {
     "name": "stdout",
     "output_type": "stream",
     "text": [
      "5\n",
      "1 2 3 4 5\n",
      "2 3 4 5 1\n",
      "5\n"
     ]
    }
   ],
   "source": [
    "\n",
    "\n",
    "n = int(input().strip())\n",
    "a = list(map(int,input().strip().split()))\n",
    "b = list(map(int,input().strip().split()))\n",
    "max_match_list=[0 for i in range(n)]\n",
    "for i in range(n):\n",
    "#     num_match = sum([1 for j in range(n) if a[(j+i)%n]==b[j]])\n",
    "    for j in range(n):\n",
    "        if b[i]==a[(j+i)%n]:\n",
    "            max_match_list[j]+=1\n",
    "    max_match = max(max_match_list)\n",
    "print(max_match)\n",
    "# print(max_match_list)"
   ]
  }
 ],
 "metadata": {
  "kernelspec": {
   "display_name": "Python 3",
   "language": "python",
   "name": "python3"
  },
  "language_info": {
   "codemirror_mode": {
    "name": "ipython",
    "version": 3
   },
   "file_extension": ".py",
   "mimetype": "text/x-python",
   "name": "python",
   "nbconvert_exporter": "python",
   "pygments_lexer": "ipython3",
   "version": "3.7.7"
  }
 },
 "nbformat": 4,
 "nbformat_minor": 4
}
